{
 "cells": [
  {
   "cell_type": "code",
   "execution_count": null,
   "metadata": {
    "_cell_guid": "bc71af49-771c-4433-84d6-c3ab07e03500",
    "_uuid": "443e3392-6961-4b4d-abe4-20899068f19a",
    "collapsed": false,
    "execution": {
     "iopub.execute_input": "2025-03-23T07:50:30.071076Z",
     "iopub.status.busy": "2025-03-23T07:50:30.070765Z",
     "iopub.status.idle": "2025-03-23T07:50:30.120159Z",
     "shell.execute_reply": "2025-03-23T07:50:30.119457Z",
     "shell.execute_reply.started": "2025-03-23T07:50:30.071053Z"
    },
    "jupyter": {
     "outputs_hidden": false
    },
    "trusted": true
   },
   "outputs": [],
   "source": [
    "import pandas as pd\n",
    "import numpy as np\n",
    "import re\n",
    "import string\n",
    "import nltk\n",
    "from nltk.corpus import stopwords\n",
    "nltk.download('stopwords')\n",
    "import torch\n",
    "from torch import nn\n",
    "from torch.utils.data import Dataset, DataLoader\n",
    "import matplotlib.pyplot as plt\n",
    "import seaborn as sns\n",
    "from sklearn.model_selection import train_test_split\n",
    "from transformers import AutoTokenizer\n",
    "from transformers import AutoModelForSequenceClassification\n",
    "import random\n",
    "from datasets import Dataset\n",
    "from transformers import TrainingArguments, Trainer\n",
    "from sklearn.metrics import accuracy_score, f1_score, multilabel_confusion_matrix"
   ]
  },
  {
   "cell_type": "code",
   "execution_count": 37,
   "metadata": {
    "_cell_guid": "e9f288bb-9829-4eeb-91f1-8e6f4daadc21",
    "_uuid": "d1684eb6-57d2-4729-a63c-81ab09a9c0b9",
    "collapsed": false,
    "execution": {
     "iopub.execute_input": "2025-03-23T07:50:41.746391Z",
     "iopub.status.busy": "2025-03-23T07:50:41.746053Z",
     "iopub.status.idle": "2025-03-23T07:50:41.752367Z",
     "shell.execute_reply": "2025-03-23T07:50:41.751602Z",
     "shell.execute_reply.started": "2025-03-23T07:50:41.746364Z"
    },
    "jupyter": {
     "outputs_hidden": false
    },
    "trusted": true
   },
   "outputs": [],
   "source": [
    "def clean_text(text: str) -> str:\n",
    "    text = re.sub(r'<[^>]+>', '', text) # remove html tags\n",
    "    text = re.sub(r'http\\S+|www\\S+|https\\S+', '', text) #remove urls\n",
    "    text = text.translate(str.maketrans('', '', string.punctuation)) #remove punctions\n",
    "    text = text.replace('\\n', ' ')\n",
    "    text = text.replace('\\r', ' ')\n",
    "    text = text.lower() #convert to lower case\n",
    "\n",
    "    stop_words = set(stopwords.words('english'))\n",
    "    filtered = [word for word in text.split(' ') if word not in stop_words]\n",
    "    return ' '.join(filtered)"
   ]
  },
  {
   "cell_type": "code",
   "execution_count": null,
   "metadata": {
    "_cell_guid": "e1d769eb-9981-4503-974b-d315365ae134",
    "_uuid": "fdd9b240-f870-4236-b042-5fb6e2967601",
    "collapsed": false,
    "execution": {
     "iopub.execute_input": "2025-03-23T07:50:43.105616Z",
     "iopub.status.busy": "2025-03-23T07:50:43.105292Z",
     "iopub.status.idle": "2025-03-23T07:50:44.033649Z",
     "shell.execute_reply": "2025-03-23T07:50:44.032915Z",
     "shell.execute_reply.started": "2025-03-23T07:50:43.105590Z"
    },
    "jupyter": {
     "outputs_hidden": false
    },
    "trusted": true
   },
   "outputs": [
    {
     "data": {
      "text/html": [
       "<div>\n",
       "<style scoped>\n",
       "    .dataframe tbody tr th:only-of-type {\n",
       "        vertical-align: middle;\n",
       "    }\n",
       "\n",
       "    .dataframe tbody tr th {\n",
       "        vertical-align: top;\n",
       "    }\n",
       "\n",
       "    .dataframe thead th {\n",
       "        text-align: right;\n",
       "    }\n",
       "</style>\n",
       "<table border=\"1\" class=\"dataframe\">\n",
       "  <thead>\n",
       "    <tr style=\"text-align: right;\">\n",
       "      <th></th>\n",
       "      <th>id</th>\n",
       "      <th>comment_text</th>\n",
       "      <th>toxic</th>\n",
       "      <th>severe_toxic</th>\n",
       "      <th>obscene</th>\n",
       "      <th>threat</th>\n",
       "      <th>insult</th>\n",
       "      <th>identity_hate</th>\n",
       "    </tr>\n",
       "  </thead>\n",
       "  <tbody>\n",
       "    <tr>\n",
       "      <th>0</th>\n",
       "      <td>0000997932d777bf</td>\n",
       "      <td>Explanation\\nWhy the edits made under my usern...</td>\n",
       "      <td>0</td>\n",
       "      <td>0</td>\n",
       "      <td>0</td>\n",
       "      <td>0</td>\n",
       "      <td>0</td>\n",
       "      <td>0</td>\n",
       "    </tr>\n",
       "    <tr>\n",
       "      <th>1</th>\n",
       "      <td>000103f0d9cfb60f</td>\n",
       "      <td>D'aww! He matches this background colour I'm s...</td>\n",
       "      <td>0</td>\n",
       "      <td>0</td>\n",
       "      <td>0</td>\n",
       "      <td>0</td>\n",
       "      <td>0</td>\n",
       "      <td>0</td>\n",
       "    </tr>\n",
       "    <tr>\n",
       "      <th>2</th>\n",
       "      <td>000113f07ec002fd</td>\n",
       "      <td>Hey man, I'm really not trying to edit war. It...</td>\n",
       "      <td>0</td>\n",
       "      <td>0</td>\n",
       "      <td>0</td>\n",
       "      <td>0</td>\n",
       "      <td>0</td>\n",
       "      <td>0</td>\n",
       "    </tr>\n",
       "    <tr>\n",
       "      <th>3</th>\n",
       "      <td>0001b41b1c6bb37e</td>\n",
       "      <td>\"\\nMore\\nI can't make any real suggestions on ...</td>\n",
       "      <td>0</td>\n",
       "      <td>0</td>\n",
       "      <td>0</td>\n",
       "      <td>0</td>\n",
       "      <td>0</td>\n",
       "      <td>0</td>\n",
       "    </tr>\n",
       "    <tr>\n",
       "      <th>4</th>\n",
       "      <td>0001d958c54c6e35</td>\n",
       "      <td>You, sir, are my hero. Any chance you remember...</td>\n",
       "      <td>0</td>\n",
       "      <td>0</td>\n",
       "      <td>0</td>\n",
       "      <td>0</td>\n",
       "      <td>0</td>\n",
       "      <td>0</td>\n",
       "    </tr>\n",
       "  </tbody>\n",
       "</table>\n",
       "</div>"
      ],
      "text/plain": [
       "                 id                                       comment_text  toxic  \\\n",
       "0  0000997932d777bf  Explanation\\nWhy the edits made under my usern...      0   \n",
       "1  000103f0d9cfb60f  D'aww! He matches this background colour I'm s...      0   \n",
       "2  000113f07ec002fd  Hey man, I'm really not trying to edit war. It...      0   \n",
       "3  0001b41b1c6bb37e  \"\\nMore\\nI can't make any real suggestions on ...      0   \n",
       "4  0001d958c54c6e35  You, sir, are my hero. Any chance you remember...      0   \n",
       "\n",
       "   severe_toxic  obscene  threat  insult  identity_hate  \n",
       "0             0        0       0       0              0  \n",
       "1             0        0       0       0              0  \n",
       "2             0        0       0       0              0  \n",
       "3             0        0       0       0              0  \n",
       "4             0        0       0       0              0  "
      ]
     },
     "execution_count": 38,
     "metadata": {},
     "output_type": "execute_result"
    }
   ],
   "source": [
    "data_path = \"train.csv\"\n",
    "\n",
    "df_data = pd.read_csv(data_path)\n",
    "df_data.head()"
   ]
  },
  {
   "cell_type": "code",
   "execution_count": 39,
   "metadata": {
    "_cell_guid": "6594673f-6275-49ed-903a-bd34cb88524b",
    "_uuid": "c71d83de-f3ac-44c5-9306-c2adace3c52f",
    "collapsed": false,
    "execution": {
     "iopub.execute_input": "2025-03-23T07:50:47.553578Z",
     "iopub.status.busy": "2025-03-23T07:50:47.553270Z",
     "iopub.status.idle": "2025-03-23T07:51:11.817769Z",
     "shell.execute_reply": "2025-03-23T07:51:11.817008Z",
     "shell.execute_reply.started": "2025-03-23T07:50:47.553555Z"
    },
    "jupyter": {
     "outputs_hidden": false
    },
    "trusted": true
   },
   "outputs": [],
   "source": [
    "df_data['comment_text'] = df_data['comment_text'].apply(clean_text)"
   ]
  },
  {
   "cell_type": "code",
   "execution_count": 40,
   "metadata": {
    "_cell_guid": "8bdf85f3-5ceb-46fb-b1ff-a00dd2176006",
    "_uuid": "f6d02e5a-bd28-4e2e-be3c-dc452fdb1c09",
    "collapsed": false,
    "execution": {
     "iopub.execute_input": "2025-03-23T07:51:11.818894Z",
     "iopub.status.busy": "2025-03-23T07:51:11.818692Z",
     "iopub.status.idle": "2025-03-23T07:51:12.280882Z",
     "shell.execute_reply": "2025-03-23T07:51:12.280014Z",
     "shell.execute_reply.started": "2025-03-23T07:51:11.818866Z"
    },
    "jupyter": {
     "outputs_hidden": false
    },
    "trusted": true
   },
   "outputs": [
    {
     "data": {
      "text/plain": [
       "{'id': '0000997932d777bf',\n",
       " 'comment_text': 'explanation edits made username hardcore metallica fan reverted werent vandalisms closure gas voted new york dolls fac please dont remove template talk page since im retired now892053827',\n",
       " 'toxic': 0,\n",
       " 'severe_toxic': 0,\n",
       " 'obscene': 0,\n",
       " 'threat': 0,\n",
       " 'insult': 0,\n",
       " 'identity_hate': 0}"
      ]
     },
     "execution_count": 40,
     "metadata": {},
     "output_type": "execute_result"
    }
   ],
   "source": [
    "dataset = Dataset.from_pandas(df_data)\n",
    "dataset[0]"
   ]
  },
  {
   "cell_type": "code",
   "execution_count": 41,
   "metadata": {
    "_cell_guid": "1d5c4005-0fae-4c80-94d2-5f6b6e535c9a",
    "_uuid": "8441dc29-68d6-43d5-9739-6ac934b028f1",
    "collapsed": false,
    "execution": {
     "iopub.execute_input": "2025-03-23T07:51:12.282776Z",
     "iopub.status.busy": "2025-03-23T07:51:12.282544Z",
     "iopub.status.idle": "2025-03-23T07:51:12.290007Z",
     "shell.execute_reply": "2025-03-23T07:51:12.289179Z",
     "shell.execute_reply.started": "2025-03-23T07:51:12.282747Z"
    },
    "jupyter": {
     "outputs_hidden": false
    },
    "trusted": true
   },
   "outputs": [
    {
     "data": {
      "text/plain": [
       "({'toxic': 0,\n",
       "  'severe_toxic': 1,\n",
       "  'obscene': 2,\n",
       "  'threat': 3,\n",
       "  'insult': 4,\n",
       "  'identity_hate': 5},\n",
       " {0: 'toxic',\n",
       "  1: 'severe_toxic',\n",
       "  2: 'obscene',\n",
       "  3: 'threat',\n",
       "  4: 'insult',\n",
       "  5: 'identity_hate'})"
      ]
     },
     "execution_count": 41,
     "metadata": {},
     "output_type": "execute_result"
    }
   ],
   "source": [
    "label2id = {column: idx for idx, column in enumerate(df_data.columns[2:])}\n",
    "\n",
    "id2label = {idx: column for idx, column in enumerate(df_data.columns[2:])}\n",
    "\n",
    "label2id, id2label"
   ]
  },
  {
   "cell_type": "code",
   "execution_count": 42,
   "metadata": {
    "_cell_guid": "67adc457-3369-42ad-aa5d-1b169a7999d2",
    "_uuid": "84db5ffc-650d-4afc-bac7-136fcc072d2b",
    "collapsed": false,
    "execution": {
     "iopub.execute_input": "2025-03-23T07:51:12.291255Z",
     "iopub.status.busy": "2025-03-23T07:51:12.291045Z",
     "iopub.status.idle": "2025-03-23T07:51:12.650059Z",
     "shell.execute_reply": "2025-03-23T07:51:12.649152Z",
     "shell.execute_reply.started": "2025-03-23T07:51:12.291229Z"
    },
    "jupyter": {
     "outputs_hidden": false
    },
    "trusted": true
   },
   "outputs": [],
   "source": [
    "tokenizer = AutoTokenizer.from_pretrained(\"bert-base-uncased\")\n",
    "label_keys = ['toxic', 'severe_toxic', 'obscene', 'threat', 'insult', 'identity_hate']\n",
    "\n",
    "def preprocess_data(examples):\n",
    "    text = examples['comment_text']\n",
    "    encoding = tokenizer(text, padding=\"max_length\", truncation=True, max_length=128)\n",
    "    \n",
    "    labels_batch = {k: examples[k] for k in label_keys}\n",
    "    labels_matrix = np.zeros((len(text), len(label_keys)))\n",
    "    \n",
    "    for idx, label in enumerate(label_keys):\n",
    "        labels_matrix[:, idx] = labels_batch[label]\n",
    "    \n",
    "    encoding[\"labels\"] = labels_matrix.tolist()\n",
    "    \n",
    "    return encoding"
   ]
  },
  {
   "cell_type": "code",
   "execution_count": null,
   "metadata": {
    "_cell_guid": "1e4573fa-9b1f-4c2a-ab01-ab4918407b61",
    "_uuid": "8c24ed59-7798-4c01-aede-9aacc78dcab4",
    "collapsed": false,
    "execution": {
     "iopub.execute_input": "2025-03-23T07:51:12.651120Z",
     "iopub.status.busy": "2025-03-23T07:51:12.650886Z",
     "iopub.status.idle": "2025-03-23T07:51:38.236324Z",
     "shell.execute_reply": "2025-03-23T07:51:38.235591Z",
     "shell.execute_reply.started": "2025-03-23T07:51:12.651100Z"
    },
    "jupyter": {
     "outputs_hidden": false
    },
    "trusted": true
   },
   "outputs": [],
   "source": [
    "columns_to_keep = ['input_ids', 'attention_mask', 'labels']\n",
    "\n",
    "encoded_dataset = dataset.map(\n",
    "    preprocess_data,\n",
    "    batched=True,\n",
    "    remove_columns=[col for col in dataset.column_names if col not in columns_to_keep]\n",
    ")"
   ]
  },
  {
   "cell_type": "code",
   "execution_count": 44,
   "metadata": {
    "_cell_guid": "78eabce8-e124-4b80-8db2-ad7e2bdbdecc",
    "_uuid": "d70848bb-a2ec-4cac-a7d5-c2d5b001daaa",
    "collapsed": false,
    "execution": {
     "iopub.execute_input": "2025-03-23T07:51:38.237393Z",
     "iopub.status.busy": "2025-03-23T07:51:38.237137Z",
     "iopub.status.idle": "2025-03-23T07:51:38.278180Z",
     "shell.execute_reply": "2025-03-23T07:51:38.277584Z",
     "shell.execute_reply.started": "2025-03-23T07:51:38.237373Z"
    },
    "jupyter": {
     "outputs_hidden": false
    },
    "trusted": true
   },
   "outputs": [],
   "source": [
    "encoded_dataset = encoded_dataset.train_test_split(test_size = 0.2)"
   ]
  },
  {
   "cell_type": "code",
   "execution_count": null,
   "metadata": {
    "_cell_guid": "190f687f-36fe-4d03-8320-c0cb000cf569",
    "_uuid": "085557d3-8cbc-4182-bef7-825290b4e755",
    "collapsed": false,
    "execution": {
     "iopub.execute_input": "2025-03-23T06:01:35.606784Z",
     "iopub.status.busy": "2025-03-23T06:01:35.606462Z",
     "iopub.status.idle": "2025-03-23T06:01:38.534035Z",
     "shell.execute_reply": "2025-03-23T06:01:38.533431Z",
     "shell.execute_reply.started": "2025-03-23T06:01:35.606761Z"
    },
    "jupyter": {
     "outputs_hidden": false
    },
    "trusted": true
   },
   "outputs": [],
   "source": [
    "from transformers import AutoModelForSequenceClassification\n",
    "\n",
    "model = AutoModelForSequenceClassification.from_pretrained(\"bert-base-uncased\", \n",
    "                                                           problem_type=\"multi_label_classification\", \n",
    "                                                           num_labels=len(label_keys),\n",
    "                                                           id2label=id2label,\n",
    "                                                           label2id=label2id,\n",
    "                                                          )"
   ]
  },
  {
   "cell_type": "code",
   "execution_count": null,
   "metadata": {
    "_cell_guid": "e7b11f9b-9002-4d84-a3f5-6b74ddcfca00",
    "_uuid": "9ebe69cf-7bcc-4b6b-b7de-a904560d488c",
    "collapsed": false,
    "execution": {
     "iopub.execute_input": "2025-03-23T06:01:38.535131Z",
     "iopub.status.busy": "2025-03-23T06:01:38.534870Z",
     "iopub.status.idle": "2025-03-23T06:01:38.935499Z",
     "shell.execute_reply": "2025-03-23T06:01:38.934808Z",
     "shell.execute_reply.started": "2025-03-23T06:01:38.535109Z"
    },
    "jupyter": {
     "outputs_hidden": false
    },
    "trusted": true
   },
   "outputs": [],
   "source": [
    "model.to(\"cuda\")"
   ]
  },
  {
   "cell_type": "code",
   "execution_count": null,
   "metadata": {
    "_cell_guid": "70faa8ad-11a7-46b7-9c7e-0f728ff1d779",
    "_uuid": "cef6dc2e-403b-4a0e-92e4-87910e71486e",
    "collapsed": false,
    "execution": {
     "iopub.execute_input": "2025-03-23T06:01:40.696261Z",
     "iopub.status.busy": "2025-03-23T06:01:40.695912Z",
     "iopub.status.idle": "2025-03-23T06:01:40.729180Z",
     "shell.execute_reply": "2025-03-23T06:01:40.728316Z",
     "shell.execute_reply.started": "2025-03-23T06:01:40.696197Z"
    },
    "jupyter": {
     "outputs_hidden": false
    },
    "trusted": true
   },
   "outputs": [],
   "source": [
    "batch_size = 16\n",
    "metric_name = \"f1\"\n",
    "\n",
    "from transformers import TrainingArguments, Trainer\n",
    "\n",
    "args = TrainingArguments(\n",
    "    f\"final\",\n",
    "    evaluation_strategy = \"epoch\",\n",
    "    save_strategy = \"epoch\",\n",
    "    learning_rate=2e-5,\n",
    "    per_device_train_batch_size=batch_size,\n",
    "    per_device_eval_batch_size=batch_size,\n",
    "    num_train_epochs=2,\n",
    "    weight_decay=0.01,\n",
    "    load_best_model_at_end=True,\n",
    "    metric_for_best_model=metric_name,\n",
    "    #push_to_hub=True,\n",
    ")"
   ]
  },
  {
   "cell_type": "code",
   "execution_count": 48,
   "metadata": {
    "_cell_guid": "da79a596-37b2-4656-bdd6-23467ed077cb",
    "_uuid": "0c41a5fe-f22d-45f4-80d8-d0d701b48c92",
    "collapsed": false,
    "execution": {
     "iopub.execute_input": "2025-03-23T07:54:52.009508Z",
     "iopub.status.busy": "2025-03-23T07:54:52.009162Z",
     "iopub.status.idle": "2025-03-23T07:54:52.016549Z",
     "shell.execute_reply": "2025-03-23T07:54:52.015859Z",
     "shell.execute_reply.started": "2025-03-23T07:54:52.009483Z"
    },
    "jupyter": {
     "outputs_hidden": false
    },
    "trusted": true
   },
   "outputs": [],
   "source": [
    "from sklearn.metrics import f1_score, roc_auc_score, accuracy_score\n",
    "from transformers import EvalPrediction\n",
    "import torch\n",
    "    \n",
    "# source: https://jesusleal.io/2021/04/21/Longformer-multilabel-classification/\n",
    "def multi_label_metrics(predictions, labels, threshold=0.5):\n",
    "    # first, apply sigmoid on predictions which are of shape (batch_size, num_labels)\n",
    "    sigmoid = torch.nn.Sigmoid()\n",
    "    probs = sigmoid(torch.Tensor(predictions))\n",
    "    # next, use threshold to turn them into integer predictions\n",
    "    y_pred = np.zeros(probs.shape)\n",
    "    y_pred[np.where(probs >= threshold)] = 1\n",
    "    # finally, compute metrics\n",
    "    y_true = labels\n",
    "    f1_micro_average = f1_score(y_true=y_true, y_pred=y_pred, average='micro')\n",
    "    roc_auc = roc_auc_score(y_true, y_pred, average = 'micro')\n",
    "    accuracy = accuracy_score(y_true, y_pred)\n",
    "    # return as dictionary\n",
    "    metrics = {'f1': f1_micro_average,\n",
    "               'roc_auc': roc_auc,\n",
    "               'accuracy': accuracy}\n",
    "    return metrics\n",
    "\n",
    "def compute_metrics(p: EvalPrediction):\n",
    "    preds = p.predictions[0] if isinstance(p.predictions, \n",
    "            tuple) else p.predictions\n",
    "    result = multi_label_metrics(\n",
    "        predictions=preds, \n",
    "        labels=p.label_ids)\n",
    "    return result"
   ]
  },
  {
   "cell_type": "code",
   "execution_count": null,
   "metadata": {
    "_cell_guid": "5958cc58-0a5e-4351-8841-0e08bf9ce43a",
    "_uuid": "55fceb3e-f23b-4bce-ab73-21834cad813b",
    "collapsed": false,
    "execution": {
     "iopub.execute_input": "2025-03-23T06:22:18.490530Z",
     "iopub.status.busy": "2025-03-23T06:22:18.490156Z",
     "iopub.status.idle": "2025-03-23T06:22:19.153384Z",
     "shell.execute_reply": "2025-03-23T06:22:19.152626Z",
     "shell.execute_reply.started": "2025-03-23T06:22:18.490476Z"
    },
    "jupyter": {
     "outputs_hidden": false
    },
    "trusted": true
   },
   "outputs": [],
   "source": [
    "import wandb\n",
    "from kaggle_secrets import UserSecretsClient\n",
    "\n",
    "user_secrets = UserSecretsClient()\n",
    "wandb_api_key = user_secrets.get_secret(\"WANDB_API_KEY\")\n",
    "\n",
    "if wandb_api_key:\n",
    "    wandb.login(key=wandb_api_key)\n",
    "    print(\"✅ Logged into Weights & Biases!\")\n",
    "else:\n",
    "    print(\"⚠️ WANDB API Key not found! Set it in Kaggle secrets.\")"
   ]
  },
  {
   "cell_type": "code",
   "execution_count": null,
   "metadata": {
    "_cell_guid": "4ad40eb0-53b2-427a-b9de-da2167f52b11",
    "_uuid": "2f7346e3-15e1-4600-b0b4-fb279327b967",
    "collapsed": false,
    "execution": {
     "iopub.execute_input": "2025-03-23T07:55:01.015673Z",
     "iopub.status.busy": "2025-03-23T07:55:01.015372Z",
     "iopub.status.idle": "2025-03-23T07:55:01.030881Z",
     "shell.execute_reply": "2025-03-23T07:55:01.028448Z",
     "shell.execute_reply.started": "2025-03-23T07:55:01.015651Z"
    },
    "jupyter": {
     "outputs_hidden": false
    },
    "trusted": true
   },
   "outputs": [],
   "source": [
    "trainer = Trainer(\n",
    "    model,\n",
    "    args,\n",
    "    train_dataset=encoded_dataset[\"train\"],\n",
    "    eval_dataset=encoded_dataset[\"test\"],\n",
    "    compute_metrics=compute_metrics\n",
    ")"
   ]
  },
  {
   "cell_type": "code",
   "execution_count": null,
   "metadata": {
    "_cell_guid": "8dbc89b0-5278-45f3-8f53-7467b7b8c282",
    "_uuid": "961e777b-5b96-45d6-83d0-6cca1f391b85",
    "collapsed": false,
    "execution": {
     "iopub.execute_input": "2025-03-23T06:22:25.229000Z",
     "iopub.status.busy": "2025-03-23T06:22:25.228701Z",
     "iopub.status.idle": "2025-03-23T07:20:00.816818Z",
     "shell.execute_reply": "2025-03-23T07:20:00.815975Z",
     "shell.execute_reply.started": "2025-03-23T06:22:25.228976Z"
    },
    "jupyter": {
     "outputs_hidden": false
    },
    "trusted": true
   },
   "outputs": [],
   "source": [
    "trainer.train()"
   ]
  },
  {
   "cell_type": "code",
   "execution_count": null,
   "metadata": {
    "_cell_guid": "65f4820a-7b54-4fbd-be11-722801c76961",
    "_uuid": "2d00b4a7-ce25-4d8d-a1c5-f4499cd46319",
    "collapsed": false,
    "execution": {
     "iopub.execute_input": "2025-03-23T07:34:49.265384Z",
     "iopub.status.busy": "2025-03-23T07:34:49.265055Z",
     "iopub.status.idle": "2025-03-23T07:34:50.331130Z",
     "shell.execute_reply": "2025-03-23T07:34:50.330474Z",
     "shell.execute_reply.started": "2025-03-23T07:34:49.265356Z"
    },
    "jupyter": {
     "outputs_hidden": false
    },
    "trusted": true
   },
   "outputs": [],
   "source": [
    "trainer.save_model('TRAINED_MODEL')"
   ]
  },
  {
   "cell_type": "code",
   "execution_count": null,
   "metadata": {
    "_cell_guid": "aa805c66-9c05-4ab0-9e43-d48abbc6f5c0",
    "_uuid": "a045bb45-0d6d-4c3e-9d73-ddb38648125d",
    "collapsed": false,
    "execution": {
     "iopub.execute_input": "2025-03-23T07:36:24.520382Z",
     "iopub.status.busy": "2025-03-23T07:36:24.520061Z",
     "iopub.status.idle": "2025-03-23T07:38:20.449970Z",
     "shell.execute_reply": "2025-03-23T07:38:20.449033Z",
     "shell.execute_reply.started": "2025-03-23T07:36:24.520359Z"
    },
    "jupyter": {
     "outputs_hidden": false
    },
    "trusted": true
   },
   "outputs": [],
   "source": [
    "trainer.evaluate()"
   ]
  }
 ],
 "metadata": {
  "kaggle": {
   "accelerator": "gpu",
   "dataSources": [
    {
     "databundleVersionId": 44219,
     "sourceId": 8076,
     "sourceType": "competition"
    }
   ],
   "isGpuEnabled": true,
   "isInternetEnabled": true,
   "language": "python",
   "sourceType": "notebook"
  },
  "kernelspec": {
   "display_name": "Python 3",
   "language": "python",
   "name": "python3"
  },
  "language_info": {
   "codemirror_mode": {
    "name": "ipython",
    "version": 3
   },
   "file_extension": ".py",
   "mimetype": "text/x-python",
   "name": "python",
   "nbconvert_exporter": "python",
   "pygments_lexer": "ipython3",
   "version": "3.10.12"
  }
 },
 "nbformat": 4,
 "nbformat_minor": 4
}
